{
 "cells": [
  {
   "cell_type": "markdown",
   "metadata": {},
   "source": [
    "# Exploratory Data Analysis - Before Cleansing"
   ]
  },
  {
   "cell_type": "markdown",
   "metadata": {},
   "source": [
    "We are checking the number of rows and columns and list of column name."
   ]
  },
  {
   "cell_type": "code",
   "execution_count": 2,
   "metadata": {},
   "outputs": [
    {
     "name": "stderr",
     "output_type": "stream",
     "text": [
      "C:\\Users\\Reema Mehta\\Anaconda3\\lib\\site-packages\\IPython\\core\\interactiveshell.py:3020: DtypeWarning: Columns (5,6) have mixed types. Specify dtype option on import or set low_memory=False.\n",
      "  interactivity=interactivity, compiler=compiler, result=result)\n"
     ]
    },
    {
     "data": {
      "text/html": [
       "<div>\n",
       "<style scoped>\n",
       "    .dataframe tbody tr th:only-of-type {\n",
       "        vertical-align: middle;\n",
       "    }\n",
       "\n",
       "    .dataframe tbody tr th {\n",
       "        vertical-align: top;\n",
       "    }\n",
       "\n",
       "    .dataframe thead th {\n",
       "        text-align: right;\n",
       "    }\n",
       "</style>\n",
       "<table border=\"1\" class=\"dataframe\">\n",
       "  <thead>\n",
       "    <tr style=\"text-align: right;\">\n",
       "      <th></th>\n",
       "      <th>ID</th>\n",
       "      <th>Title</th>\n",
       "      <th>Publication</th>\n",
       "      <th>Author</th>\n",
       "      <th>Published</th>\n",
       "      <th>Year</th>\n",
       "      <th>Month</th>\n",
       "      <th>Category</th>\n",
       "      <th>URL</th>\n",
       "      <th>Content</th>\n",
       "    </tr>\n",
       "  </thead>\n",
       "  <tbody>\n",
       "    <tr>\n",
       "      <th>0</th>\n",
       "      <td>1</td>\n",
       "      <td>What’s News: Business &amp; Finance</td>\n",
       "      <td>WSJ</td>\n",
       "      <td>[]</td>\n",
       "      <td>01/02/18</td>\n",
       "      <td>2018</td>\n",
       "      <td>1</td>\n",
       "      <td>\\r\\r\\n                      Whats News Busines...</td>\n",
       "      <td>https://www.wsj.com/articles/whats-news-busine...</td>\n",
       "      <td>The unemployment rate in some metro areas stan...</td>\n",
       "    </tr>\n",
       "    <tr>\n",
       "      <th>1</th>\n",
       "      <td>2</td>\n",
       "      <td>A Browser You’ve Never Heard of Is Dethroning ...</td>\n",
       "      <td>WSJ</td>\n",
       "      <td>['Newley Purnell', 'Newley.Purnell Wsj.Com']</td>\n",
       "      <td>01/01/18</td>\n",
       "      <td>2018</td>\n",
       "      <td>1</td>\n",
       "      <td>Tech</td>\n",
       "      <td>https://www.wsj.com/articles/a-browser-youve-n...</td>\n",
       "      <td>JAKARTA, Indonesia—A mobile browser rarely use...</td>\n",
       "    </tr>\n",
       "    <tr>\n",
       "      <th>2</th>\n",
       "      <td>3</td>\n",
       "      <td>2017 Marked Safest Year in Commercial Aviation...</td>\n",
       "      <td>WSJ</td>\n",
       "      <td>['Andy Pasztor', 'Andy.Pasztor Wsj.Com']</td>\n",
       "      <td>01/02/18</td>\n",
       "      <td>2018</td>\n",
       "      <td>1</td>\n",
       "      <td>U.S.</td>\n",
       "      <td>https://www.wsj.com/articles/2017-marked-safes...</td>\n",
       "      <td>The global airline industry achieved a previou...</td>\n",
       "    </tr>\n",
       "    <tr>\n",
       "      <th>3</th>\n",
       "      <td>4</td>\n",
       "      <td>Five Things to Know About the Iranian Protests</td>\n",
       "      <td>WSJ</td>\n",
       "      <td>['Farnaz Fassihi', 'Farnaz.Fassihi Wsj.Com']</td>\n",
       "      <td>12/31/17</td>\n",
       "      <td>2017</td>\n",
       "      <td>12</td>\n",
       "      <td>World</td>\n",
       "      <td>https://www.wsj.com/articles/economics-dissati...</td>\n",
       "      <td>Protests erupted across Iran for a third day o...</td>\n",
       "    </tr>\n",
       "    <tr>\n",
       "      <th>4</th>\n",
       "      <td>5</td>\n",
       "      <td>Photos of the Day: Jan. 1</td>\n",
       "      <td>WSJ</td>\n",
       "      <td>[]</td>\n",
       "      <td>01/01/18</td>\n",
       "      <td>2018</td>\n",
       "      <td>1</td>\n",
       "      <td>None</td>\n",
       "      <td>https://www.wsj.com/articles/photos-of-the-day...</td>\n",
       "      <td>Photos of the Day: Jan. 1 Children warm up by ...</td>\n",
       "    </tr>\n",
       "  </tbody>\n",
       "</table>\n",
       "</div>"
      ],
      "text/plain": [
       "   ID                                              Title Publication  \\\n",
       "0   1                    What’s News: Business & Finance         WSJ   \n",
       "1   2  A Browser You’ve Never Heard of Is Dethroning ...         WSJ   \n",
       "2   3  2017 Marked Safest Year in Commercial Aviation...         WSJ   \n",
       "3   4     Five Things to Know About the Iranian Protests         WSJ   \n",
       "4   5                          Photos of the Day: Jan. 1         WSJ   \n",
       "\n",
       "                                         Author Published  Year Month  \\\n",
       "0                                            []  01/02/18  2018     1   \n",
       "1  ['Newley Purnell', 'Newley.Purnell Wsj.Com']  01/01/18  2018     1   \n",
       "2      ['Andy Pasztor', 'Andy.Pasztor Wsj.Com']  01/02/18  2018     1   \n",
       "3  ['Farnaz Fassihi', 'Farnaz.Fassihi Wsj.Com']  12/31/17  2017    12   \n",
       "4                                            []  01/01/18  2018     1   \n",
       "\n",
       "                                            Category  \\\n",
       "0  \\r\\r\\n                      Whats News Busines...   \n",
       "1                                               Tech   \n",
       "2                                               U.S.   \n",
       "3                                              World   \n",
       "4                                               None   \n",
       "\n",
       "                                                 URL  \\\n",
       "0  https://www.wsj.com/articles/whats-news-busine...   \n",
       "1  https://www.wsj.com/articles/a-browser-youve-n...   \n",
       "2  https://www.wsj.com/articles/2017-marked-safes...   \n",
       "3  https://www.wsj.com/articles/economics-dissati...   \n",
       "4  https://www.wsj.com/articles/photos-of-the-day...   \n",
       "\n",
       "                                             Content  \n",
       "0  The unemployment rate in some metro areas stan...  \n",
       "1  JAKARTA, Indonesia—A mobile browser rarely use...  \n",
       "2  The global airline industry achieved a previou...  \n",
       "3  Protests erupted across Iran for a third day o...  \n",
       "4  Photos of the Day: Jan. 1 Children warm up by ...  "
      ]
     },
     "execution_count": 2,
     "metadata": {},
     "output_type": "execute_result"
    }
   ],
   "source": [
    "#imported required packages\n",
    "import pandas as pd\n",
    "import seaborn as sns\n",
    "\n",
    "df = pd.read_csv('Final_Data.csv')\n",
    "df.head(5)"
   ]
  },
  {
   "cell_type": "markdown",
   "metadata": {},
   "source": [
    "List of columns"
   ]
  },
  {
   "cell_type": "code",
   "execution_count": 3,
   "metadata": {},
   "outputs": [
    {
     "data": {
      "text/plain": [
       "['ID',\n",
       " 'Title',\n",
       " 'Publication',\n",
       " 'Author',\n",
       " 'Published',\n",
       " 'Year',\n",
       " 'Month',\n",
       " 'Category',\n",
       " 'URL',\n",
       " 'Content']"
      ]
     },
     "execution_count": 3,
     "metadata": {},
     "output_type": "execute_result"
    }
   ],
   "source": [
    "list(df)"
   ]
  },
  {
   "cell_type": "markdown",
   "metadata": {},
   "source": [
    "# Null Values"
   ]
  },
  {
   "cell_type": "code",
   "execution_count": 4,
   "metadata": {},
   "outputs": [
    {
     "data": {
      "text/plain": [
       "Title     27235\n",
       "Author    22893\n",
       "dtype: int64"
      ]
     },
     "execution_count": 4,
     "metadata": {},
     "output_type": "execute_result"
    }
   ],
   "source": [
    "#Count of Null values for each columns\n",
    "df = pd.read_csv('Final_Data.csv')\n",
    "df\n",
    "null_columns=df.columns[df.isnull().any()]\n",
    "df[null_columns].isnull().sum()"
   ]
  },
  {
   "cell_type": "markdown",
   "metadata": {},
   "source": [
    "# Quantity of non-empty rows"
   ]
  },
  {
   "cell_type": "code",
   "execution_count": 33,
   "metadata": {},
   "outputs": [
    {
     "name": "stdout",
     "output_type": "stream",
     "text": [
      "ID: 0.0%\n",
      "Title: 24.89328836363304%\n",
      "Publication: 0.0%\n",
      "Author: 20.924620910910637%\n",
      "Published: 0.0%\n",
      "Year: 0.0%\n",
      "Month: 0.0%\n",
      "Category: 0.0%\n",
      "URL: 0.0%\n",
      "Content: 0.0%\n"
     ]
    }
   ],
   "source": [
    "#Calcualing percetage of empty rows\n",
    "def NaN_percent(df, column_name):\n",
    "    row_count = df[column_name].shape[0]\n",
    "    empty_values = row_count - df[column_name].count()\n",
    "    return (100.0*empty_values)/row_count\n",
    "for i in list(df):\n",
    "    print(i +': ' + str(NaN_percent(df,i))+'%')  "
   ]
  },
  {
   "cell_type": "markdown",
   "metadata": {},
   "source": [
    "Title and Author, these columns have some empty rows"
   ]
  },
  {
   "cell_type": "markdown",
   "metadata": {},
   "source": [
    "# Publication Data"
   ]
  },
  {
   "cell_type": "code",
   "execution_count": 41,
   "metadata": {},
   "outputs": [
    {
     "name": "stdout",
     "output_type": "stream",
     "text": [
      "2541 14725 7041\n"
     ]
    },
    {
     "data": {
      "image/png": "[encoded data removed]",
      "text/plain": [
       "<Figure size 432x288 with 1 Axes>"
      ]
     },
     "metadata": {},
     "output_type": "display_data"
    }
   ],
   "source": [
    "from matplotlib import pyplot as plt\n",
    "%matplotlib inline\n",
    "\n",
    "blue = '#5A6FFA'\n",
    "green = '#A3EB5B'\n",
    "red = '#FF0000'\n",
    "\n",
    "\n",
    "W, N, T = sum(df.loc[:, 'Publication'] == 'WSJ'), sum(df.loc[:, 'Publication'] == 'NY Times'),sum(df.loc[:, 'Publication'] == 'TampaBay')\n",
    "print(W, N, T)\n",
    "\n",
    "from matplotlib import rcParams\n",
    "rcParams['font.size'] = 18\n",
    "\n",
    "piechart = plt.pie(\n",
    "    (W, N, T),\n",
    "    labels=('WSJ','NY Times', 'TampaBay'),\n",
    "    shadow=True,\n",
    "    colors=(green, blue, red),\n",
    "    startangle=90,    # rotate conter-clockwise by 90 degrees\n",
    "    autopct='%1.1f%%',# display fraction as percentages\n",
    ")\n",
    "\n",
    "plt.axis('equal')   \n",
    "plt.tight_layout()"
   ]
  },
  {
   "cell_type": "markdown",
   "metadata": {},
   "source": [
    "Percentage of content of newspaper articles used in data file"
   ]
  }
 ],
 "metadata": {
  "kernelspec": {
   "display_name": "Python 3",
   "language": "python",
   "name": "python3"
  },
  "language_info": {
   "codemirror_mode": {
    "name": "ipython",
    "version": 3
   },
   "file_extension": ".py",
   "mimetype": "text/x-python",
   "name": "python",
   "nbconvert_exporter": "python",
   "pygments_lexer": "ipython3",
   "version": "3.7.1"
  }
 },
 "nbformat": 4,
 "nbformat_minor": 2
}
