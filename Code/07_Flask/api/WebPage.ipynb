{
 "cells": [
  {
   "cell_type": "code",
   "execution_count": null,
   "metadata": {},
   "outputs": [
    {
     "name": "stderr",
     "output_type": "stream",
     "text": [
      "C:\\ProgramData\\Anaconda3\\lib\\site-packages\\sklearn\\feature_extraction\\text.py:300: UserWarning: Your stop_words may be inconsistent with your preprocessing. Tokenizing the stop words generated tokens ['abov', 'afterward', 'alon', 'alreadi', 'alway', 'ani', 'anoth', 'anyon', 'anyth', 'anywher', 'becam', 'becaus', 'becom', 'befor', 'besid', 'cri', 'describ', 'dure', 'els', 'elsewher', 'empti', 'everi', 'everyon', 'everyth', 'everywher', 'fifti', 'formerli', 'forti', 'ha', 'henc', 'hereaft', 'herebi', 'hi', 'howev', 'hundr', 'inde', 'latterli', 'mani', 'meanwhil', 'moreov', 'mostli', 'nobodi', 'noon', 'noth', 'nowher', 'onc', 'onli', 'otherwis', 'ourselv', 'perhap', 'pleas', 'seriou', 'sever', 'sinc', 'sincer', 'sixti', 'someon', 'someth', 'sometim', 'somewher', 'themselv', 'thenc', 'thereaft', 'therebi', 'therefor', 'thi', 'thu', 'togeth', 'twelv', 'twenti', 'veri', 'wa', 'whatev', 'whenc', 'whenev', 'wherea', 'whereaft', 'wherebi', 'wherev', 'whi', 'yourselv'] not in stop_words.\n",
      "  'stop_words.' % sorted(inconsistent))\n",
      "C:\\ProgramData\\Anaconda3\\lib\\site-packages\\sklearn\\utils\\validation.py:761: DataConversionWarning: A column-vector y was passed when a 1d array was expected. Please change the shape of y to (n_samples, ), for example using ravel().\n",
      "  y = column_or_1d(y, warn=True)\n",
      " * Running on http://127.0.0.1:5000/ (Press CTRL+C to quit)\n",
      "127.0.0.1 - - [25/Apr/2019 12:27:46] \"GET / HTTP/1.1\" 200 -\n",
      "127.0.0.1 - - [25/Apr/2019 12:27:46] \"GET /static/css/styles.css HTTP/1.1\" 404 -\n",
      "127.0.0.1 - - [25/Apr/2019 12:28:18] \"POST /predict HTTP/1.1\" 200 -\n",
      "127.0.0.1 - - [25/Apr/2019 12:28:18] \"GET /static/css/styles.css HTTP/1.1\" 404 -\n"
     ]
    },
    {
     "name": "stdout",
     "output_type": "stream",
     "text": [
      "[0]\n"
     ]
    },
    {
     "name": "stderr",
     "output_type": "stream",
     "text": [
      "127.0.0.1 - - [25/Apr/2019 12:30:39] \"POST /predict HTTP/1.1\" 200 -\n",
      "127.0.0.1 - - [25/Apr/2019 12:30:39] \"GET /static/css/styles.css HTTP/1.1\" 404 -\n"
     ]
    },
    {
     "name": "stdout",
     "output_type": "stream",
     "text": [
      "[1]\n"
     ]
    },
    {
     "name": "stderr",
     "output_type": "stream",
     "text": [
      "127.0.0.1 - - [25/Apr/2019 12:31:09] \"POST /predict HTTP/1.1\" 200 -\n",
      "127.0.0.1 - - [25/Apr/2019 12:31:09] \"GET /static/css/styles.css HTTP/1.1\" 404 -\n"
     ]
    },
    {
     "name": "stdout",
     "output_type": "stream",
     "text": [
      "[1]\n"
     ]
    },
    {
     "name": "stderr",
     "output_type": "stream",
     "text": [
      "127.0.0.1 - - [25/Apr/2019 12:31:31] \"POST /predict HTTP/1.1\" 200 -\n",
      "127.0.0.1 - - [25/Apr/2019 12:31:32] \"GET /static/css/styles.css HTTP/1.1\" 404 -\n"
     ]
    },
    {
     "name": "stdout",
     "output_type": "stream",
     "text": [
      "[0]\n"
     ]
    },
    {
     "name": "stderr",
     "output_type": "stream",
     "text": [
      "127.0.0.1 - - [25/Apr/2019 12:32:17] \"POST /predict HTTP/1.1\" 200 -\n",
      "127.0.0.1 - - [25/Apr/2019 12:32:17] \"GET /static/css/styles.css HTTP/1.1\" 404 -\n"
     ]
    },
    {
     "name": "stdout",
     "output_type": "stream",
     "text": [
      "[0]\n"
     ]
    },
    {
     "name": "stderr",
     "output_type": "stream",
     "text": [
      "127.0.0.1 - - [25/Apr/2019 12:34:53] \"POST /predict HTTP/1.1\" 200 -\n",
      "127.0.0.1 - - [25/Apr/2019 12:34:53] \"GET /static/css/styles.css HTTP/1.1\" 404 -\n"
     ]
    },
    {
     "name": "stdout",
     "output_type": "stream",
     "text": [
      "[0]\n"
     ]
    },
    {
     "name": "stderr",
     "output_type": "stream",
     "text": [
      "127.0.0.1 - - [25/Apr/2019 12:35:26] \"POST /predict HTTP/1.1\" 200 -\n",
      "127.0.0.1 - - [25/Apr/2019 12:35:26] \"GET /static/css/styles.css HTTP/1.1\" 404 -\n"
     ]
    },
    {
     "name": "stdout",
     "output_type": "stream",
     "text": [
      "[0]\n"
     ]
    },
    {
     "name": "stderr",
     "output_type": "stream",
     "text": [
      "127.0.0.1 - - [25/Apr/2019 12:40:52] \"POST /predict HTTP/1.1\" 200 -\n",
      "127.0.0.1 - - [25/Apr/2019 12:40:52] \"GET /static/css/styles.css HTTP/1.1\" 404 -\n"
     ]
    },
    {
     "name": "stdout",
     "output_type": "stream",
     "text": [
      "[0]\n"
     ]
    }
   ],
   "source": [
    "from flask import Flask,render_template,url_for,request\n",
    "from sklearn.model_selection import train_test_split\n",
    "from sklearn.preprocessing import LabelEncoder\n",
    "import pandas as pd \n",
    "import pickle\n",
    "import numpy as np \n",
    "import nltk\n",
    "from nltk.corpus import stopwords \n",
    "import re\n",
    "from sklearn.model_selection import StratifiedKFold\n",
    "from sklearn.feature_extraction.text import TfidfVectorizer\n",
    "from sklearn.naive_bayes import MultinomialNB\n",
    "from sklearn.externals import joblib\n",
    "\n",
    "porter_stemmer = nltk.stem.porter.PorterStemmer()\n",
    "\n",
    "#spilts the sentences into words\n",
    "def porter_tokenizer(text, stemmer=porter_stemmer):\n",
    "    lower_txt = text.lower()\n",
    "    tokens = nltk.wordpunct_tokenize(lower_txt)\n",
    "    stems = [porter_stemmer.stem(t) for t in tokens]\n",
    "    no_punct = [s for s in stems if re.match('^[a-zA-Z]+$', s) is not None]\n",
    "    return no_punct\n",
    "\n",
    "stop_words = set(stopwords.words('english'))\n",
    "\n",
    "tfidf_vectorizer = TfidfVectorizer(stop_words='english',\n",
    "                                   encoding='utf-8',\n",
    "                                   decode_error='replace',\n",
    "                                   strip_accents='unicode',\n",
    "                                   analyzer='word',\n",
    "                                   tokenizer=porter_tokenizer,\n",
    "                                   ngram_range=(1,2),\n",
    "                                   binary=False)\n",
    "\n",
    "\n",
    "def vectorizeData():\n",
    "    df= pd.read_csv('CleanData.csv')\n",
    "    le = LabelEncoder()\n",
    "    le.fit(df['Label'])\n",
    "\n",
    "    df_labels = pd.DataFrame(np.array(le.transform(df['Label'])))\n",
    "    \n",
    "    skf = StratifiedKFold(n_splits = 5)\n",
    "    \n",
    "    for trn_indx, tst_indx in skf.split(df['Content'],df_labels):\n",
    "        skf_X_train, skf_X_test = df['Content'].iloc[trn_indx], df['Content'].iloc[tst_indx]\n",
    "        skf_Y_train, skf_Y_test = df_labels.iloc[trn_indx], df_labels.iloc[tst_indx]\n",
    "        \n",
    "    # Fit and transform the training data for tfidf\n",
    "    tfidf_train = tfidf_vectorizer.fit_transform(skf_X_train)\n",
    "\n",
    "    # Transform the test set \n",
    "    tfidf_test = tfidf_vectorizer.transform(skf_X_test)\n",
    "    \n",
    "    return tfidf_train,tfidf_test,skf_Y_train,skf_Y_test\n",
    "\n",
    "#Generate the training and testing dataset\n",
    "X_train, X_test ,Y_train, Y_test  = vectorizeData()\n",
    "\n",
    "#Using the SVM Model\n",
    "from sklearn import svm\n",
    "clf = svm.LinearSVC()\n",
    "clf.fit(X_train,Y_train)\n",
    "clf.score(X_test,Y_test)\n",
    "  \n",
    "\n",
    "app = Flask(__name__)\n",
    "\n",
    "@app.route('/')\n",
    "def home():\n",
    "\treturn render_template('home.html')\n",
    "\n",
    "@app.route('/predict',methods=['POST'])\n",
    "def predict():\n",
    "    #SVM Classifier\n",
    "#     from sklearn import svm\n",
    "#     clf = svm.LinearSVC()\n",
    "#     clf.fit(X_train,Y_train)\n",
    "#     clf.score(X_test,Y_test)\n",
    "# #     #Alternative Usage of Saved Model\n",
    "#     ytb_model = open(\"naivebayes_spam_model.pkl\",\"rb\")\n",
    "#     clf = joblib.load(ytb_model)\n",
    "\n",
    "    if request.method == 'POST':\n",
    "        comment = request.form['comment']\n",
    "        data = [comment]\n",
    "        vect = tfidf_vectorizer.transform(data).toarray()\n",
    "        my_prediction = clf.predict(vect)\n",
    "        print(my_prediction)\n",
    "    return render_template('result.html',prediction = my_prediction)\n",
    "\n",
    "\n",
    "if __name__ == '__main__':\n",
    "    app.run(debug=False)"
   ]
  },
  {
   "cell_type": "code",
   "execution_count": null,
   "metadata": {},
   "outputs": [],
   "source": []
  }
 ],
 "metadata": {
  "kernelspec": {
   "display_name": "Python 3",
   "language": "python",
   "name": "python3"
  },
  "language_info": {
   "codemirror_mode": {
    "name": "ipython",
    "version": 3
   },
   "file_extension": ".py",
   "mimetype": "text/x-python",
   "name": "python",
   "nbconvert_exporter": "python",
   "pygments_lexer": "ipython3",
   "version": "3.7.1"
  }
 },
 "nbformat": 4,
 "nbformat_minor": 2
}
