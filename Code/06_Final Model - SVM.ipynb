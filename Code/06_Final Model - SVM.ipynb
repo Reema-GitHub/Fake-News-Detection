{
 "cells": [
  {
   "cell_type": "markdown",
   "metadata": {},
   "source": [
    "# Support Vector Machine"
   ]
  },
  {
   "cell_type": "code",
   "execution_count": 5,
   "metadata": {},
   "outputs": [
    {
     "data": {
      "text/html": [
       "<div>\n",
       "<style scoped>\n",
       "    .dataframe tbody tr th:only-of-type {\n",
       "        vertical-align: middle;\n",
       "    }\n",
       "\n",
       "    .dataframe tbody tr th {\n",
       "        vertical-align: top;\n",
       "    }\n",
       "\n",
       "    .dataframe thead th {\n",
       "        text-align: right;\n",
       "    }\n",
       "</style>\n",
       "<table border=\"1\" class=\"dataframe\">\n",
       "  <thead>\n",
       "    <tr style=\"text-align: right;\">\n",
       "      <th></th>\n",
       "      <th>ID</th>\n",
       "      <th>Title</th>\n",
       "      <th>Publication</th>\n",
       "      <th>Author</th>\n",
       "      <th>Published</th>\n",
       "      <th>Year</th>\n",
       "      <th>Month</th>\n",
       "      <th>Category</th>\n",
       "      <th>URL</th>\n",
       "      <th>Content</th>\n",
       "      <th>Label</th>\n",
       "    </tr>\n",
       "  </thead>\n",
       "  <tbody>\n",
       "    <tr>\n",
       "      <th>0</th>\n",
       "      <td>50314</td>\n",
       "      <td>WhatsNewsBusinessFinance</td>\n",
       "      <td>WSJ</td>\n",
       "      <td>Journalist</td>\n",
       "      <td>01/02/18</td>\n",
       "      <td>2018</td>\n",
       "      <td>1</td>\n",
       "      <td>Whats News Business Finance</td>\n",
       "      <td>https://www.wsj.com/articles/whats-news-busine...</td>\n",
       "      <td>The unemployment rate in some metro areas stan...</td>\n",
       "      <td>Real</td>\n",
       "    </tr>\n",
       "    <tr>\n",
       "      <th>1</th>\n",
       "      <td>60334</td>\n",
       "      <td>ABrowserYouveNeverHeardofIsDethroningGoogleinAsia</td>\n",
       "      <td>WSJ</td>\n",
       "      <td>NewleyPurnell,NewleyPurnellWsjCom</td>\n",
       "      <td>01/01/18</td>\n",
       "      <td>2018</td>\n",
       "      <td>1</td>\n",
       "      <td>Tech</td>\n",
       "      <td>https://www.wsj.com/articles/a-browser-youve-n...</td>\n",
       "      <td>JAKARTA IndonesiaA mobile browser rarely used ...</td>\n",
       "      <td>Real</td>\n",
       "    </tr>\n",
       "    <tr>\n",
       "      <th>2</th>\n",
       "      <td>92197</td>\n",
       "      <td>MarkedSafestYearinCommercialAviationHistory</td>\n",
       "      <td>WSJ</td>\n",
       "      <td>AndyPasztor,AndyPasztorWsjCom</td>\n",
       "      <td>01/02/18</td>\n",
       "      <td>2018</td>\n",
       "      <td>1</td>\n",
       "      <td>U.S.</td>\n",
       "      <td>https://www.wsj.com/articles/2017-marked-safes...</td>\n",
       "      <td>The global airline industry achieved a previou...</td>\n",
       "      <td>Real</td>\n",
       "    </tr>\n",
       "    <tr>\n",
       "      <th>3</th>\n",
       "      <td>83175</td>\n",
       "      <td>FiveThingstoKnowAbouttheIranianProtests</td>\n",
       "      <td>WSJ</td>\n",
       "      <td>FarnazFassihi,FarnazFassihiWsjCom</td>\n",
       "      <td>12/31/17</td>\n",
       "      <td>2017</td>\n",
       "      <td>12</td>\n",
       "      <td>World</td>\n",
       "      <td>https://www.wsj.com/articles/economics-dissati...</td>\n",
       "      <td>Protests erupted across Iran for a third day o...</td>\n",
       "      <td>Real</td>\n",
       "    </tr>\n",
       "    <tr>\n",
       "      <th>4</th>\n",
       "      <td>41508</td>\n",
       "      <td>PhotosoftheDayJan</td>\n",
       "      <td>WSJ</td>\n",
       "      <td>Journalist</td>\n",
       "      <td>01/01/18</td>\n",
       "      <td>2018</td>\n",
       "      <td>1</td>\n",
       "      <td>None</td>\n",
       "      <td>https://www.wsj.com/articles/photos-of-the-day...</td>\n",
       "      <td>Photos of the Day Jan Children warm up by a fi...</td>\n",
       "      <td>Real</td>\n",
       "    </tr>\n",
       "  </tbody>\n",
       "</table>\n",
       "</div>"
      ],
      "text/plain": [
       "      ID                                              Title Publication  \\\n",
       "0  50314                           WhatsNewsBusinessFinance         WSJ   \n",
       "1  60334  ABrowserYouveNeverHeardofIsDethroningGoogleinAsia         WSJ   \n",
       "2  92197        MarkedSafestYearinCommercialAviationHistory         WSJ   \n",
       "3  83175            FiveThingstoKnowAbouttheIranianProtests         WSJ   \n",
       "4  41508                                  PhotosoftheDayJan         WSJ   \n",
       "\n",
       "                              Author Published  Year  Month  \\\n",
       "0                         Journalist  01/02/18  2018      1   \n",
       "1  NewleyPurnell,NewleyPurnellWsjCom  01/01/18  2018      1   \n",
       "2      AndyPasztor,AndyPasztorWsjCom  01/02/18  2018      1   \n",
       "3  FarnazFassihi,FarnazFassihiWsjCom  12/31/17  2017     12   \n",
       "4                         Journalist  01/01/18  2018      1   \n",
       "\n",
       "                      Category  \\\n",
       "0  Whats News Business Finance   \n",
       "1                         Tech   \n",
       "2                         U.S.   \n",
       "3                        World   \n",
       "4                         None   \n",
       "\n",
       "                                                 URL  \\\n",
       "0  https://www.wsj.com/articles/whats-news-busine...   \n",
       "1  https://www.wsj.com/articles/a-browser-youve-n...   \n",
       "2  https://www.wsj.com/articles/2017-marked-safes...   \n",
       "3  https://www.wsj.com/articles/economics-dissati...   \n",
       "4  https://www.wsj.com/articles/photos-of-the-day...   \n",
       "\n",
       "                                             Content Label  \n",
       "0  The unemployment rate in some metro areas stan...  Real  \n",
       "1  JAKARTA IndonesiaA mobile browser rarely used ...  Real  \n",
       "2  The global airline industry achieved a previou...  Real  \n",
       "3  Protests erupted across Iran for a third day o...  Real  \n",
       "4  Photos of the Day Jan Children warm up by a fi...  Real  "
      ]
     },
     "execution_count": 5,
     "metadata": {},
     "output_type": "execute_result"
    }
   ],
   "source": [
    "from sklearn.model_selection import train_test_split\n",
    "from sklearn.preprocessing import LabelEncoder\n",
    "from sklearn.feature_extraction.text import CountVectorizer\n",
    "from sklearn.feature_extraction.text import TfidfVectorizer\n",
    "from sklearn import svm\n",
    "from sklearn import metrics\n",
    "from pandas_ml import ConfusionMatrix\n",
    "from matplotlib import pyplot as plt\n",
    "from sklearn.metrics import f1_score\n",
    "from sklearn.metrics import roc_auc_score\n",
    "import os\n",
    "import sklearn\n",
    "import seaborn as sns\n",
    "import pickle\n",
    "import itertools\n",
    "import numpy as np \n",
    "import nltk\n",
    "import string\n",
    "import pandas as pd\n",
    "import re\n",
    "\n",
    "df = pd.read_csv(os.getcwd()+'\\CleanData.csv', encoding = 'utf-8')\n",
    "\n",
    "df.head()"
   ]
  },
  {
   "cell_type": "markdown",
   "metadata": {},
   "source": [
    "#### Label Encoder"
   ]
  },
  {
   "cell_type": "code",
   "execution_count": 6,
   "metadata": {},
   "outputs": [
    {
     "name": "stdout",
     "output_type": "stream",
     "text": [
      "['Real' 'Real' 'Real' ... 'Fake' 'Fake' 'Fake']\n",
      "[1 1 1 ... 0 0 0]\n"
     ]
    }
   ],
   "source": [
    "Content = df['Content'].values \n",
    "\n",
    "Labels = df['Label'].values\n",
    "\n",
    "print(Labels)\n",
    "\n",
    "le = LabelEncoder()\n",
    "le.fit(Labels)\n",
    "Labels = le.transform(Labels)\n",
    "\n",
    "print(Labels)\n",
    "\n",
    "X_train, X_test, y_train, y_test = train_test_split(Content, Labels, test_size=0.33, random_state=53)"
   ]
  },
  {
   "cell_type": "markdown",
   "metadata": {},
   "source": [
    "#### Stemming and setting stopwords"
   ]
  },
  {
   "cell_type": "code",
   "execution_count": 7,
   "metadata": {},
   "outputs": [],
   "source": [
    "import nltk\n",
    "from nltk.corpus import stopwords \n",
    "\n",
    "porter_stemmer = nltk.stem.porter.PorterStemmer()\n",
    "\n",
    "#spilts the sentences into words\n",
    "def porter_tokenizer(text, stemmer=porter_stemmer):\n",
    "    lower_txt = text.lower()\n",
    "    tokens = nltk.wordpunct_tokenize(lower_txt)\n",
    "    stems = [porter_stemmer.stem(t) for t in tokens]\n",
    "    no_punct = [s for s in stems if re.match('^[a-zA-Z]+$', s) is not None]\n",
    "    return no_punct\n",
    "\n",
    "stop_words = set(stopwords.words('english')) "
   ]
  },
  {
   "cell_type": "markdown",
   "metadata": {},
   "source": [
    "#### CountVectorizer"
   ]
  },
  {
   "cell_type": "code",
   "execution_count": 8,
   "metadata": {},
   "outputs": [
    {
     "name": "stderr",
     "output_type": "stream",
     "text": [
      "C:\\Users\\Reema Mehta\\Anaconda3\\lib\\site-packages\\sklearn\\feature_extraction\\text.py:301: UserWarning: Your stop_words may be inconsistent with your preprocessing. Tokenizing the stop words generated tokens ['abov', 'afterward', 'alon', 'alreadi', 'alway', 'ani', 'anoth', 'anyon', 'anyth', 'anywher', 'becam', 'becaus', 'becom', 'befor', 'besid', 'cri', 'describ', 'dure', 'els', 'elsewher', 'empti', 'everi', 'everyon', 'everyth', 'everywher', 'fifti', 'formerli', 'forti', 'ha', 'henc', 'hereaft', 'herebi', 'hi', 'howev', 'hundr', 'inde', 'latterli', 'mani', 'meanwhil', 'moreov', 'mostli', 'nobodi', 'noon', 'noth', 'nowher', 'onc', 'onli', 'otherwis', 'ourselv', 'perhap', 'pleas', 'seriou', 'sever', 'sinc', 'sincer', 'sixti', 'someon', 'someth', 'sometim', 'somewher', 'themselv', 'thenc', 'thereaft', 'therebi', 'therefor', 'thi', 'thu', 'togeth', 'twelv', 'twenti', 'veri', 'wa', 'whatev', 'whenc', 'whenev', 'wherea', 'whereaft', 'wherebi', 'wherev', 'whi', 'yourselv'] not in stop_words.\n",
      "  'stop_words.' % sorted(inconsistent))\n"
     ]
    },
    {
     "name": "stdout",
     "output_type": "stream",
     "text": [
      "CountVectorizer(analyzer='word', binary=False, decode_error='replace',\n",
      "        dtype=<class 'numpy.int64'>, encoding='utf-8', input='content',\n",
      "        lowercase=True, max_df=1.0, max_features=None, min_df=1,\n",
      "        ngram_range=(1, 2), preprocessor=None, stop_words='english',\n",
      "        strip_accents='unicode', token_pattern='(?u)\\\\b\\\\w\\\\w+\\\\b',\n",
      "        tokenizer=<function porter_tokenizer at 0x000001782EC6AD08>,\n",
      "        vocabulary=None)\n"
     ]
    }
   ],
   "source": [
    "count_vectorizer = CountVectorizer(stop_words='english',\n",
    "                                   encoding='utf-8',\n",
    "                                   decode_error='replace',\n",
    "                                   strip_accents='unicode',\n",
    "                                   analyzer='word',\n",
    "                                   tokenizer=porter_tokenizer,\n",
    "                                   ngram_range=(1,2),\n",
    "                                   binary=False)\n",
    "#testing the implementation\n",
    "con = df['Content'].loc[1]\n",
    "con = [con]\n",
    "\n",
    "vect = count_vectorizer.fit(con)\n",
    "print(vect)\n",
    "\n",
    "# Fit and transform the training data \n",
    "count_train = count_vectorizer.fit_transform(X_train)\n",
    "\n",
    "# Transform the test set \n",
    "count_test = count_vectorizer.transform(X_test)\n",
    "\n",
    "# Get the feature names of `count_vectorizer` \n",
    "# print(count_vectorizer.get_feature_names()[30:])\n"
   ]
  },
  {
   "cell_type": "markdown",
   "metadata": {},
   "source": [
    "#### TfIDFVectorizer"
   ]
  },
  {
   "cell_type": "code",
   "execution_count": 9,
   "metadata": {},
   "outputs": [
    {
     "name": "stderr",
     "output_type": "stream",
     "text": [
      "C:\\Users\\Reema Mehta\\Anaconda3\\lib\\site-packages\\sklearn\\feature_extraction\\text.py:301: UserWarning: Your stop_words may be inconsistent with your preprocessing. Tokenizing the stop words generated tokens ['abov', 'afterward', 'alon', 'alreadi', 'alway', 'ani', 'anoth', 'anyon', 'anyth', 'anywher', 'becam', 'becaus', 'becom', 'befor', 'besid', 'cri', 'describ', 'dure', 'els', 'elsewher', 'empti', 'everi', 'everyon', 'everyth', 'everywher', 'fifti', 'formerli', 'forti', 'ha', 'henc', 'hereaft', 'herebi', 'hi', 'howev', 'hundr', 'inde', 'latterli', 'mani', 'meanwhil', 'moreov', 'mostli', 'nobodi', 'noon', 'noth', 'nowher', 'onc', 'onli', 'otherwis', 'ourselv', 'perhap', 'pleas', 'seriou', 'sever', 'sinc', 'sincer', 'sixti', 'someon', 'someth', 'sometim', 'somewher', 'themselv', 'thenc', 'thereaft', 'therebi', 'therefor', 'thi', 'thu', 'togeth', 'twelv', 'twenti', 'veri', 'wa', 'whatev', 'whenc', 'whenev', 'wherea', 'whereaft', 'wherebi', 'wherev', 'whi', 'yourselv'] not in stop_words.\n",
      "  'stop_words.' % sorted(inconsistent))\n"
     ]
    },
    {
     "name": "stdout",
     "output_type": "stream",
     "text": [
      "TfidfVectorizer(analyzer='word', binary=False, decode_error='replace',\n",
      "        dtype=<class 'numpy.float64'>, encoding='utf-8', input='content',\n",
      "        lowercase=True, max_df=1.0, max_features=None, min_df=1,\n",
      "        ngram_range=(1, 2), norm='l2', preprocessor=None, smooth_idf=True,\n",
      "        stop_words='english', strip_accents='unicode', sublinear_tf=False,\n",
      "        token_pattern='(?u)\\\\b\\\\w\\\\w+\\\\b',\n",
      "        tokenizer=<function porter_tokenizer at 0x000001782EC6AD08>,\n",
      "        use_idf=True, vocabulary=None)\n"
     ]
    }
   ],
   "source": [
    "tfidf_vectorizer = TfidfVectorizer(stop_words='english',\n",
    "                                   encoding='utf-8',\n",
    "                                   decode_error='replace',\n",
    "                                   strip_accents='unicode',\n",
    "                                   analyzer='word',\n",
    "                                   tokenizer=porter_tokenizer,\n",
    "                                   ngram_range=(1,2),\n",
    "                                   binary=False)\n",
    "\n",
    "# # Fit and transform the training data \n",
    "# tfidf_train = tfidf_vectorizer.fit_transform(X_train) \n",
    "\n",
    "# # Transform the test set \n",
    "# tfidf_test = tfidf_vectorizer.transform(X_test)\n",
    "\n",
    "#testing the implementation\n",
    "tfcon = df['Content'].loc[1]\n",
    "tfcon = [tfcon]\n",
    "\n",
    "tfvect = tfidf_vectorizer.fit(con)\n",
    "print(tfvect)\n",
    "\n",
    "# Fit and transform the training data \n",
    "tfidf_train = tfidf_vectorizer.fit_transform(X_train)\n",
    "\n",
    "# Transform the test set \n",
    "tfidf_test = tfidf_vectorizer.transform(X_test)\n",
    "\n",
    "# Get the feature names of `count_vectorizer` \n",
    "# print(tfidf_vectorizer.get_feature_names()[30:])\n"
   ]
  },
  {
   "cell_type": "code",
   "execution_count": 10,
   "metadata": {},
   "outputs": [],
   "source": [
    "# Confusion Matrix\n",
    "import matplotlib as mp\n",
    "\n",
    "def evaluation(cm):\n",
    "    TP = cm[0][0]\n",
    "    FP = cm[0][1]\n",
    "    FN = cm[1][0]\n",
    "    TN = cm[1][1]\n",
    "\n",
    "    #Calculating precision\n",
    "    def Precision_Cal(TP,FP):\n",
    "        return TP/(TP+FP)\n",
    "\n",
    "    #Calculating recall\n",
    "    def Recall_Cal(TP,FN):\n",
    "        return TP/(TP+FN)\n",
    "\n",
    "    #Calculating F1 score\n",
    "    def F1_Cal(precision,recall):\n",
    "        f1 = 2*((precision * recall)/(precision+recall))\n",
    "        print('F1 Score = ', f1)\n",
    "        print('F1 % = ', f1*100)\n",
    "\n",
    "    #Calculating Error Rate\n",
    "    def Err_Cal(TP,FP,FN,TN):\n",
    "        return ((FP+FN)/(TP+FP+FN+TN))\n",
    "\n",
    "    precision = Precision_Cal(TP,FP)\n",
    "    print('Precision = ', precision)\n",
    "\n",
    "    recall = Recall_Cal(TP,FN)\n",
    "    print('Recall = ', recall)\n",
    "\n",
    "    F1_Cal(precision,recall)\n",
    "\n",
    "    Err_Rate = Err_Cal(TP,FP,FN,TN)\n",
    "    print('Error Rate = ', Err_Rate)\n",
    "\n",
    "    #Accuracy is 1-error rate\n",
    "    print('Accuracy = ', 1-Err_Rate)\n",
    "    \n",
    "def rocCurve(y_true, y_pred, roc):\n",
    "    fpr, tpr, thresholds = metrics.roc_curve(y_true, y_pred)\n",
    "    # Plot ROC curve\n",
    "    plt.plot(fpr, tpr, label='ROC curve (area = %0.3f)' % roc)\n",
    "    plt.plot([0, 1], [0, 1], 'k--')  # random predictions curve\n",
    "    plt.xlim([0.0, 1.0])\n",
    "    plt.ylim([0.0, 1.0])\n",
    "    plt.xlabel('False Positive Rate or (1 - Specifity)')\n",
    "    plt.ylabel('True Positive Rate or (Sensitivity)')\n",
    "    plt.title('Receiver Operating Characteristic')\n",
    "    plt.legend(loc=\"lower right\")\n",
    "    \n",
    "def plotConfusionMatrix(cm):\n",
    "    np.set_printoptions(suppress=True)\n",
    "    mp.rc(\"figure\", figsize=(4, 2))\n",
    "\n",
    "    hm = sns.heatmap(cm, \n",
    "                cbar=False,\n",
    "                annot=True, \n",
    "                square=True,\n",
    "                fmt='d',\n",
    "                yticklabels=['fake','real'],\n",
    "                xticklabels=['fake','real'],\n",
    "                cmap='Blues'\n",
    "                )\n",
    "    plt.title('Confusion matrix - Validation dataset')\n",
    "    plt.ylabel('actual class')\n",
    "    plt.xlabel('predicted class')\n",
    "    plt.tight_layout()\n",
    "    plt.savefig('confmat_valid.eps', dpi=300)\n",
    "    plt.show()\n"
   ]
  },
  {
   "cell_type": "markdown",
   "metadata": {},
   "source": [
    "#### Training the model with countvectors "
   ]
  },
  {
   "cell_type": "code",
   "execution_count": 11,
   "metadata": {},
   "outputs": [
    {
     "name": "stderr",
     "output_type": "stream",
     "text": [
      "C:\\Users\\Reema Mehta\\Anaconda3\\lib\\site-packages\\sklearn\\svm\\base.py:931: ConvergenceWarning: Liblinear failed to converge, increase the number of iterations.\n",
      "  \"the number of iterations.\", ConvergenceWarning)\n"
     ]
    },
    {
     "data": {
      "image/png": "[encoded data removed]",
      "text/plain": [
       "<Figure size 288x144 with 1 Axes>"
      ]
     },
     "metadata": {
      "needs_background": "light"
     },
     "output_type": "display_data"
    },
    {
     "name": "stdout",
     "output_type": "stream",
     "text": [
      "Precision =  0.9687092568448501\n",
      "Recall =  0.9593630070657437\n",
      "F1 Score =  0.9640134791775539\n",
      "F1 % =  96.40134791775539\n",
      "Error Rate =  0.05611915132780666\n",
      "Accuracy =  0.9438808486721934\n",
      "ROC-AUC 0.9133023269048031\n"
     ]
    },
    {
     "data": {
      "image/png": "[encoded data removed]",
      "text/plain": [
       "<Figure size 288x144 with 1 Axes>"
      ]
     },
     "metadata": {
      "needs_background": "light"
     },
     "output_type": "display_data"
    }
   ],
   "source": [
    "#our model to be used\n",
    "clf1 = svm.LinearSVC() \n",
    "\n",
    "clf1.fit(count_train, y_train)                       # Fit SVM classifier according to X, y\n",
    "\n",
    "predcv = clf1.predict(count_test)                     # Perform classification on an array of test vectors X.\n",
    "\n",
    "roc_auc = roc_auc_score(y_test, predcv, average= 'micro')\n",
    "\n",
    "#confusion matrix for count vector\n",
    "cmcv = metrics.confusion_matrix(y_test, predcv, labels=[0,1])\n",
    "\n",
    "#plot the confusion Matrix\n",
    "plotConfusionMatrix(cmcv)\n",
    "\n",
    "rocCurve(y_test, predcv, roc_auc)\n",
    "\n",
    "#Evaluation\n",
    "evaluation(cmcv)\n",
    "print(\"ROC-AUC\", roc_auc)\n"
   ]
  },
  {
   "cell_type": "markdown",
   "metadata": {},
   "source": [
    "#### Training the model with tfidf Vectors"
   ]
  },
  {
   "cell_type": "code",
   "execution_count": 12,
   "metadata": {},
   "outputs": [
    {
     "data": {
      "image/png": "[encoded data removed]",
      "text/plain": [
       "<Figure size 288x144 with 1 Axes>"
      ]
     },
     "metadata": {
      "needs_background": "light"
     },
     "output_type": "display_data"
    },
    {
     "name": "stdout",
     "output_type": "stream",
     "text": [
      "Precision =  0.9834492249746487\n",
      "Recall =  0.9714520802776089\n",
      "F1 Score =  0.9774138396472599\n",
      "F1 % =  97.741383964726\n",
      "Error Rate =  0.035267668961641144\n",
      "Accuracy =  0.9647323310383589\n",
      "ROC-AUC 0.9416807143310469\n"
     ]
    },
    {
     "data": {
      "image/png": "[encoded data removed]",
      "text/plain": [
       "<Figure size 288x144 with 1 Axes>"
      ]
     },
     "metadata": {
      "needs_background": "light"
     },
     "output_type": "display_data"
    }
   ],
   "source": [
    "#our model to be used\n",
    "clf2 = svm.LinearSVC()\n",
    "\n",
    "# print(\"TfIdf Vectorization\")\n",
    "clf2.fit(tfidf_train, y_train)                       # Fit SVM classifier according to X, y\n",
    "\n",
    "predtf = clf2.predict(tfidf_test)                     # Perform classification on an array of test vectors X.\n",
    "\n",
    "tf_roc_auc = roc_auc_score(y_test, predtf, average= 'micro')\n",
    "\n",
    "#confusion matrix for tfidf\n",
    "cmtf = metrics.confusion_matrix(y_test, predtf, labels=[0,1])\n",
    "\n",
    "#plot the confusion Matrix\n",
    "plotConfusionMatrix(cmtf)\n",
    "\n",
    "rocCurve(y_test, predtf, tf_roc_auc)\n",
    "\n",
    "#Evaluation\n",
    "evaluation(cmtf)\n",
    "print(\"ROC-AUC\", tf_roc_auc)"
   ]
  },
  {
   "cell_type": "markdown",
   "metadata": {},
   "source": [
    "### Inference"
   ]
  },
  {
   "cell_type": "markdown",
   "metadata": {},
   "source": [
    "###### The ROC Curve with tfidf vectorization is higher which is 0.94 hence gives an accurate prediction\n",
    "\n",
    "We predicted that 27155 news are fake and they are fake (True Positive)\n",
    "\n",
    "We predicted 457 news were fake but they are real (False Positive)\n",
    "\n",
    "We predicted 798 news are real but they are fake  (False Negative)\n",
    "\n",
    "We predicted 7175 news are real and they are real (True Negative)"
   ]
  },
  {
   "cell_type": "markdown",
   "metadata": {},
   "source": [
    "#### K fold Cross Validation"
   ]
  },
  {
   "cell_type": "code",
   "execution_count": 13,
   "metadata": {},
   "outputs": [],
   "source": [
    "#Defining the split into 5 Fold\n",
    "from sklearn.model_selection import StratifiedKFold\n",
    "\n",
    "le = LabelEncoder()\n",
    "le.fit(df['Label'])\n",
    "\n",
    "df_labels = pd.DataFrame(np.array(le.transform(df['Label'])))\n",
    "\n",
    "skf = StratifiedKFold(n_splits = 5)\n",
    "\n",
    "for trn_indx, tst_indx in skf.split(df['Content'],df_labels):\n",
    "    skf_X_train, skf_X_test = df['Content'].iloc[trn_indx], df['Content'].iloc[tst_indx]\n",
    "    skf_Y_train, skf_Y_test = df_labels.iloc[trn_indx], df_labels.iloc[tst_indx]"
   ]
  },
  {
   "cell_type": "code",
   "execution_count": 14,
   "metadata": {},
   "outputs": [],
   "source": [
    "# Fit and transform the training data for count vector\n",
    "skf_count_train = count_vectorizer.fit_transform(skf_X_train)\n",
    "\n",
    "# Transform the test set \n",
    "skf_count_test = count_vectorizer.transform(skf_X_test)\n",
    "\n",
    "# Fit and transform the training data for tfidf\n",
    "skf_tfidf_train = tfidf_vectorizer.fit_transform(skf_X_train)\n",
    "\n",
    "# Transform the test set \n",
    "skf_tfidf_test = tfidf_vectorizer.transform(skf_X_test)"
   ]
  },
  {
   "cell_type": "code",
   "execution_count": 15,
   "metadata": {},
   "outputs": [
    {
     "name": "stderr",
     "output_type": "stream",
     "text": [
      "C:\\Users\\Reema Mehta\\Anaconda3\\lib\\site-packages\\sklearn\\utils\\validation.py:761: DataConversionWarning: A column-vector y was passed when a 1d array was expected. Please change the shape of y to (n_samples, ), for example using ravel().\n",
      "  y = column_or_1d(y, warn=True)\n",
      "C:\\Users\\Reema Mehta\\Anaconda3\\lib\\site-packages\\sklearn\\svm\\base.py:931: ConvergenceWarning: Liblinear failed to converge, increase the number of iterations.\n",
      "  \"the number of iterations.\", ConvergenceWarning)\n"
     ]
    },
    {
     "data": {
      "image/png": "[encoded data removed]",
      "text/plain": [
       "<Figure size 288x144 with 1 Axes>"
      ]
     },
     "metadata": {
      "needs_background": "light"
     },
     "output_type": "display_data"
    },
    {
     "name": "stdout",
     "output_type": "stream",
     "text": [
      "Precision =  0.9643819215803652\n",
      "Recall =  0.9686729601346883\n",
      "F1 Score =  0.9665226781857451\n",
      "F1 % =  96.65226781857451\n",
      "Error Rate =  0.05174812204395808\n",
      "Accuracy =  0.9482518779560419\n",
      "ROC-AUC 0.9286011644519806\n"
     ]
    },
    {
     "data": {
      "image/png": "[encoded data removed]",
      "text/plain": [
       "<Figure size 288x144 with 1 Axes>"
      ]
     },
     "metadata": {
      "needs_background": "light"
     },
     "output_type": "display_data"
    }
   ],
   "source": [
    "skf_clf1 = svm.LinearSVC() \n",
    "\n",
    "skf_clf1.fit(skf_count_train, skf_Y_train)                       # Fit SVM classifier according to X, y\n",
    "\n",
    "skf_predcv = skf_clf1.predict(skf_count_test)                     # Perform classification on an array of test vectors X.\n",
    "\n",
    "skf_cv_roc_auc = roc_auc_score(skf_Y_test, skf_predcv, average= 'micro')\n",
    "\n",
    "#confusion matrix for count vector\n",
    "skf_cm_cv = metrics.confusion_matrix(skf_Y_test, skf_predcv, labels=[0,1])\n",
    "\n",
    "#plot the confusion Matrix\n",
    "plotConfusionMatrix(skf_cm_cv)\n",
    "\n",
    "rocCurve(skf_Y_test, skf_predcv, skf_cv_roc_auc)\n",
    "\n",
    "#Evaluation\n",
    "evaluation(skf_cm_cv)\n",
    "\n",
    "print(\"ROC-AUC\", skf_cv_roc_auc)\n"
   ]
  },
  {
   "cell_type": "code",
   "execution_count": 16,
   "metadata": {},
   "outputs": [
    {
     "name": "stderr",
     "output_type": "stream",
     "text": [
      "C:\\Users\\Reema Mehta\\Anaconda3\\lib\\site-packages\\sklearn\\utils\\validation.py:761: DataConversionWarning: A column-vector y was passed when a 1d array was expected. Please change the shape of y to (n_samples, ), for example using ravel().\n",
      "  y = column_or_1d(y, warn=True)\n"
     ]
    },
    {
     "data": {
      "image/png": "[encoded data removed]",
      "text/plain": [
       "<Figure size 288x144 with 1 Axes>"
      ]
     },
     "metadata": {
      "needs_background": "light"
     },
     "output_type": "display_data"
    },
    {
     "name": "stdout",
     "output_type": "stream",
     "text": [
      "Precision =  0.9786291529482191\n",
      "Recall =  0.9772835963653754\n",
      "F1 Score =  0.9779559118236474\n",
      "F1 % =  97.79559118236475\n",
      "Error Rate =  0.034174163034406006\n",
      "Accuracy =  0.965825836965594\n",
      "ROC-AUC 0.9502279687802193\n"
     ]
    },
    {
     "data": {
      "image/png": "[encoded data removed]",
      "text/plain": [
       "<Figure size 288x144 with 1 Axes>"
      ]
     },
     "metadata": {
      "needs_background": "light"
     },
     "output_type": "display_data"
    }
   ],
   "source": [
    "# print(\"TfIdf Vectorization\")\n",
    "skf_clf2 = svm.LinearSVC()\n",
    "\n",
    "skf_clf2.fit(skf_tfidf_train, skf_Y_train)                       # Fit SVM classifier according to X, y\n",
    "\n",
    "skf_predtf = skf_clf2.predict(skf_tfidf_test)                     # Perform classification on an array of test vectors X.\n",
    "\n",
    "skf_tf_roc_auc = roc_auc_score(skf_Y_test, skf_predtf, average= 'micro')\n",
    "\n",
    "#confusion matrix for count vector\n",
    "skf_tf_cm = metrics.confusion_matrix(skf_Y_test, skf_predtf, labels=[0,1])\n",
    "\n",
    "#plot the confusion Matrix\n",
    "plotConfusionMatrix(skf_tf_cm)\n",
    "\n",
    "rocCurve(skf_Y_test, skf_predtf, skf_tf_roc_auc)\n",
    "\n",
    "#Evaluation\n",
    "evaluation(skf_tf_cm)\n",
    "\n",
    "print(\"ROC-AUC\", skf_tf_roc_auc)"
   ]
  },
  {
   "cell_type": "markdown",
   "metadata": {},
   "source": [
    "### Inference"
   ]
  },
  {
   "cell_type": "markdown",
   "metadata": {},
   "source": [
    "###### The ROC Curve with tfidf vectorization is higher which is 0.96 hence gives an accurate prediction\n",
    "\n",
    "We predicted that 16348 news are fake and they are fake (True Positive)\n",
    "\n",
    "We predicted 357 news were fake but they are real (False Positive)\n",
    "\n",
    "We predicted 380 news are real but they are fake  (False Negative)\n",
    "\n",
    "We predicted 4481 news are real and they are real (True Negative)"
   ]
  },
  {
   "cell_type": "code",
   "execution_count": null,
   "metadata": {},
   "outputs": [],
   "source": []
  }
 ],
 "metadata": {
  "kernelspec": {
   "display_name": "Python 3",
   "language": "python",
   "name": "python3"
  },
  "language_info": {
   "codemirror_mode": {
    "name": "ipython",
    "version": 3
   },
   "file_extension": ".py",
   "mimetype": "text/x-python",
   "name": "python",
   "nbconvert_exporter": "python",
   "pygments_lexer": "ipython3",
   "version": "3.7.1"
  }
 },
 "nbformat": 4,
 "nbformat_minor": 2
}
